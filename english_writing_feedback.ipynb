{
 "cells": [
  {
   "cell_type": "markdown",
   "id": "1de8d198",
   "metadata": {},
   "source": [
    "# ✏️ English Writing Feedback Tool (GPT-4o)\n",
    "Each time you load this tool, you'll get new writing topics. Choose **one** to write about:\n",
    "\n",
    "### 🧾 Writing Prompts (Choose One)\n",
    "**Story**: *A day when everything went hilariously wrong.*\n",
    "**Example**: You wake up to find out you’ve swapped lives with your pet.\n",
    "\n",
    "**Essay**: *Describe the benefits and drawbacks of online learning.*\n",
    "**Example**: Compare how students learn at home vs in the classroom.\n",
    "\n",
    "**Opinion**: *Should schools require students to wear uniforms?*\n",
    "**Example**: Argue why you agree or disagree, using personal experience.\n",
    "\n",
    "✍️ Write your response between **150–200 words**. A slight penalty applies if you go under 150 or over 260 words.\n",
    "\n",
    "---\n",
    "**Scoring (out of 40 points):**\n",
    "- Spelling (10)\n",
    "- Grammar (10)\n",
    "- Vocabulary (10)\n",
    "- Structure & Cohesion (10)"
   ]
  },
  {
   "cell_type": "code",
   "execution_count": null,
   "id": "fce87187",
   "metadata": {},
   "outputs": [],
   "source": [
    "!pip install openai==0.28 gradio --quiet"
   ]
  },
  {
   "cell_type": "code",
   "execution_count": null,
   "id": "feb73d04",
   "metadata": {},
   "outputs": [],
   "source": [
    "import openai\n",
    "import gradio as gr\n",
    "openai.api_key = input(\"Paste your OpenAI API key (starts with sk-...): \").strip()"
   ]
  },
  {
   "cell_type": "code",
   "execution_count": null,
   "id": "c9526fcd",
   "metadata": {},
   "outputs": [],
   "source": [
    "def get_feedback(essay_text):\n",
    "    prompt = f\"\"\"You are an English teacher grading a student writing task.\n",
    "\n",
    "Here is the student's writing:\n",
    "\n",
    "{essay_text}\n",
    "\n",
    "Evaluate the following 4 criteria out of 10 points each (total 40 points):\n",
    "1. Spelling – Are words spelled correctly?\n",
    "2. Grammar – Are verb tenses and sentence structures correct?\n",
    "3. Language Repertoire – Is vocabulary varied and appropriate?\n",
    "4. Formulation – Is the text well structured with cohesive devices?\n",
    "\n",
    "Also, apply a small penalty if the word count is under 150 or over 260 words.\n",
    "\n",
    "Then:\n",
    "- Provide brief feedback for each criterion\n",
    "- Show individual scores and final score out of 40 (after word length penalty)\n",
    "- Keep the tone constructive and encouraging\n",
    "\"\"\"\n",
    "    try:\n",
    "        response = openai.ChatCompletion.create(\n",
    "            model=\"gpt-4o\",\n",
    "            messages=[{\"role\": \"user\", \"content\": prompt}],\n",
    "            temperature=0.6,\n",
    "            max_tokens=500\n",
    "        )\n",
    "        return response['choices'][0]['message']['content']\n",
    "    except Exception as e:\n",
    "        return f\"⚠️ Error: {str(e)}\""
   ]
  },
  {
   "cell_type": "code",
   "execution_count": null,
   "id": "cc2c4dcb",
   "metadata": {},
   "outputs": [],
   "source": [
    "gr.Interface(\n",
    "    fn=get_feedback,\n",
    "    inputs=gr.Textbox(label=\"Paste your writing here\", lines=15, placeholder=\"150–200 words story, essay, or opinion...\"),\n",
    "    outputs=gr.Textbox(label=\"GPT Feedback\"),\n",
    "    title=\"English Writing Feedback Tool (Scored on 40 Points)\",\n",
    "    description=\"Evaluates spelling, grammar, vocabulary, and structure. Applies penalty for incorrect word count.\"\n",
    ").launch()"
   ]
  }
 ],
 "metadata": {},
 "nbformat": 4,
 "nbformat_minor": 5
}
