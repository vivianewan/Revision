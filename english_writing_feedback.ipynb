{
 "cells": [
  {
   "cell_type": "markdown",
   "id": "52a9c80b",
   "metadata": {},
   "source": [
    "# ✏️ English Writing Feedback Tool (GPT-4o)\n",
    "Paste a short **essay, story, or opinion piece** between **150–200 words**.\n",
    "\n",
    "✅ This tool provides feedback and a grade out of **40**, based on:\n",
    "- **Spelling** (10 points)\n",
    "- **Grammar** (10 points)\n",
    "- **Language Repertoire** – vocabulary variety and accuracy (10 points)\n",
    "- **Formulation** – structure, cohesion, and clarity (10 points)\n",
    "\n",
    "⚠️ A word count penalty is applied if the text is too short or too long.\n",
    "\n",
    "**Powered by GPT-4o** – accurate, fast, and affordable."
   ]
  },
  {
   "cell_type": "code",
   "execution_count": null,
   "id": "46084a30",
   "metadata": {},
   "outputs": [],
   "source": [
    "!pip install openai==0.28 gradio --quiet"
   ]
  },
  {
   "cell_type": "code",
   "execution_count": null,
   "id": "6687091a",
   "metadata": {},
   "outputs": [],
   "source": [
    "import openai\n",
    "import gradio as gr\n",
    "openai.api_key = input(\"Paste your OpenAI API key (starts with sk-...): \").strip()"
   ]
  },
  {
   "cell_type": "code",
   "execution_count": null,
   "id": "3dbca459",
   "metadata": {},
   "outputs": [],
   "source": [
    "def get_feedback(essay_text):\n",
    "    prompt = f\"\"\"You are an English teacher grading a student writing task.\n",
    "Here is the student's writing:\n",
    "\n",
    "{essay_text}\n",
    "\n",
    "Evaluate the following 4 criteria out of 10 points each (total 40 points):\n",
    "1. **Spelling** – Are words spelled correctly?\n",
    "2. **Grammar** – Are verb tenses and sentence structures correct?\n",
    "3. **Language Repertoire** – Is vocabulary varied and appropriate?\n",
    "4. **Formulation** – Is the text well structured with cohesive devices?\n",
    "\n",
    "Also, apply a small penalty if the word count is under 150 or over 260 words.\n",
    "Then:\n",
    "- Provide brief feedback for each criterion\n",
    "- Show individual scores and final score out of 40 (after word length penalty)\n",
    "- Keep the tone constructive and helpful\n",
    "\"\"\"\n",
    "    try:\n",
    "        response = openai.ChatCompletion.create(\n",
    "            model=\"gpt-4o\",\n",
    "            messages=[{\"role\": \"user\", \"content\": prompt}],\n",
    "            temperature=0.6,\n",
    "            max_tokens=500\n",
    "        )\n",
    "        return response['choices'][0]['message']['content']\n",
    "    except Exception as e:\n",
    "        return f\"⚠️ Error: {str(e)}\""
   ]
  },
  {
   "cell_type": "code",
   "execution_count": null,
   "id": "0b5a5e57",
   "metadata": {},
   "outputs": [],
   "source": [
    "gr.Interface(\n",
    "    fn=get_feedback,\n",
    "    inputs=gr.Textbox(label=\"Paste your writing here\", lines=15, placeholder=\"150–200 words story, essay, or opinion...\"),\n",
    "    outputs=gr.Textbox(label=\"GPT Feedback\"),\n",
    "    title=\"English Writing Feedback Tool (Scored on 40 Points)\",\n",
    "    description=\"Evaluates spelling, grammar, vocabulary, and structure. Applies small penalty for incorrect word count.\"\n",
    ").launch()"
   ]
  }
 ],
 "metadata": {},
 "nbformat": 4,
 "nbformat_minor": 5
}
