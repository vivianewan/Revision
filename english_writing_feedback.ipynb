{
 "cells": [
  {
   "cell_type": "markdown",
   "id": "7951be10",
   "metadata": {},
   "source": [
    "# ✏️ English Writing Feedback Tool (GPT)\n",
    "Paste your short story, opinion, or essay (150–200 words).\n",
    "\n",
    "**Get kind and constructive feedback instantly.**\n",
    "\n",
    "_Note: Your OpenAI API key is required each time for privacy and security._"
   ]
  },
  {
   "cell_type": "code",
   "execution_count": null,
   "id": "81acb096",
   "metadata": {},
   "outputs": [],
   "source": [
    "!pip install openai gradio --quiet"
   ]
  },
  {
   "cell_type": "code",
   "execution_count": null,
   "id": "f885003f",
   "metadata": {},
   "outputs": [],
   "source": [
    "import openai\n",
    "import gradio as gr\n",
    "\n",
    "# 🔐 Ask for API key safely (not stored)\n",
    "openai.api_key = input(\"Paste your OpenAI API key (starts with sk-...): \").strip()"
   ]
  },
  {
   "cell_type": "code",
   "execution_count": null,
   "id": "09d3e505",
   "metadata": {},
   "outputs": [],
   "source": [
    "# 💡 Define GPT feedback function\n",
    "def get_feedback(essay_text):\n",
    "    prompt = f\"\"\"You are a helpful and encouraging English teacher.\n",
    "The student wrote the following (150–200 words):\n",
    "\n",
    "{essay_text}\n",
    "\n",
    "Please provide:\n",
    "- Feedback on grammar, structure, and clarity\n",
    "- 2 specific suggestions to improve\n",
    "- A score out of 10\n",
    "Keep it kind and supportive.\n",
    "\"\"\"\n",
    "    try:\n",
    "        response = openai.ChatCompletion.create(\n",
    "            model=\"gpt-4\",\n",
    "            messages=[{\"role\": \"user\", \"content\": prompt}],\n",
    "            temperature=0.6,\n",
    "            max_tokens=400\n",
    "        )\n",
    "        return response['choices'][0]['message']['content']\n",
    "    except Exception as e:\n",
    "        return f\"⚠️ Error: {str(e)}\""
   ]
  },
  {
   "cell_type": "code",
   "execution_count": null,
   "id": "4acf2b3d",
   "metadata": {},
   "outputs": [],
   "source": [
    "# 🌟 Launch the app\n",
    "gr.Interface(\n",
    "    fn=get_feedback,\n",
    "    inputs=gr.Textbox(label=\"Paste your writing here\", lines=15, placeholder=\"150–200 words story, essay, or opinion...\"),\n",
    "    outputs=gr.Textbox(label=\"GPT Feedback\"),\n",
    "    title=\"English Writing Feedback Tool\",\n",
    "    description=\"Instant writing evaluation: grammar, structure, improvements & score. Powered by GPT-4.\"\n",
    ").launch()"
   ]
  }
 ],
 "metadata": {},
 "nbformat": 4,
 "nbformat_minor": 5
}
