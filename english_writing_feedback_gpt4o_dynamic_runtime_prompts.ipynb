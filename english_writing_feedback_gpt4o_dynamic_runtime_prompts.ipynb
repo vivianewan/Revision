# ✏️ English Writing Feedback Tool (GPT-4o)
# Each time your child submits writing, new prompts will appear.

!pip install openai==0.28 gradio --quiet
import openai
import gradio as gr
import random

openai.api_key = input("Paste your OpenAI API key (starts with sk-...): ").strip()
def get_feedback(essay_text):
    # Randomized prompts
    story_prompts = [
        ("A day when everything went hilariously wrong", "You wake up to find out you’ve swapped lives with your pet."),
        ("The secret door behind the bookshelf", "You step through and land in a parallel version of your school."),
        ("The robot that wouldn’t obey", "A school project turns into a chaotic adventure.")
    ]
    essay_prompts = [
        ("Describe the benefits and drawbacks of online learning", "Compare how students learn at home vs in the classroom."),
        ("How technology affects friendships", "Explain how devices change how kids connect."),
        ("Is it better to work in teams or alone?", "Use examples from school to support your view.")
    ]
    opinion_prompts = [
        ("Should schools require students to wear uniforms?", "Argue why you agree or disagree."),
        ("Should students have homework every day?", "Support your opinion with reasons."),
        ("Is it fair to ban junk food at school?", "Give your thoughts based on personal experience.")
    ]

    story = random.choice(story_prompts)
    essay = random.choice(essay_prompts)
    opinion = random.choice(opinion_prompts)

    prompt_intro = f"""
### ✍️ Writing Prompts (Choose One)

**Story**: *{story[0]}*  
_Example_: {story[1]}

**Essay**: *{essay[0]}*  
_Example_: {essay[1]}

**Opinion**: *{opinion[0]}*  
_Example_: {opinion[1]}
"""

    # Feedback generation
    grading_prompt = f"""You are an English teacher grading a student writing task.

Here is the student's writing:

{essay_text}

Evaluate the following 4 criteria out of 10 points each (total 40 points):
1. Spelling – Are words spelled correctly?
2. Grammar – Are verb tenses and sentence structures correct?
3. Language Repertoire – Is vocabulary varied and appropriate?
4. Formulation – Is the text well structured with cohesive devices?

Also, apply a small penalty if the word count is under 150 or over 260 words.

Then:
- Provide brief feedback for each criterion
- Show individual scores and final score out of 40 (after word length penalty)
- Keep the tone constructive and encouraging
"""
    try:
        response = openai.ChatCompletion.create(
            model="gpt-4o",
            messages=[{"role": "user", "content": grading_prompt}],
            temperature=0.6,
            max_tokens=500
        )
        feedback = response['choices'][0]['message']['content']
        return prompt_intro, feedback
    except Exception as e:
        return prompt_intro, f"⚠️ Error: {str(e)}"
gr.Interface(
    fn=get_feedback,
    inputs=gr.Textbox(label="Paste your writing here", lines=15, placeholder="150–200 words story, essay, or opinion..."),
    outputs=[
        gr.Markdown(label="New Writing Prompts"),
        gr.Textbox(label="GPT Feedback")
    ],
    title="English Writing Feedback Tool (Scored on 40 Points)",
    description="Paste your writing. Each time you submit, new prompts will appear and you’ll receive feedback."
).launch()
